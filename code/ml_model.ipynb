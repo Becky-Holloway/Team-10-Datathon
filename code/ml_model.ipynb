{
 "metadata": {
  "kernelspec": {
   "display_name": "Streamlit Notebook",
   "name": "streamlit"
  },
  "lastEditStatus": {
   "notebookId": "ypfxkuuzjnxy4ev3mim5",
   "authorId": "1515374569028",
   "authorName": "A_BZ_CHAKRABORTY",
   "authorEmail": "",
   "sessionId": "21a707d9-fbe6-4069-a9e5-9feaef471db4",
   "lastEditTime": 1751033152912
  }
 },
 "nbformat_minor": 5,
 "nbformat": 4,
 "cells": [
  {
   "cell_type": "markdown",
   "id": "6e0ed5e5-76d8-4297-a21d-d61006dc8d39",
   "metadata": {
    "name": "cell2",
    "collapsed": false
   },
   "source": "Import Data"
  },
  {
   "cell_type": "code",
   "id": "3683ffcd-558b-482f-ac8b-5c7361ff5d35",
   "metadata": {
    "language": "python",
    "name": "cell4"
   },
   "outputs": [],
   "source": "import pandas as pd\nimport numpy as np\nimport streamlit as st\nimport altair as alt\nfrom imblearn.over_sampling import SMOTE\n\nimport warnings\nwarnings.filterwarnings(\"ignore\")",
   "execution_count": null
  },
  {
   "cell_type": "code",
   "id": "ff513132-2a8d-4e76-b4eb-f971b655e612",
   "metadata": {
    "language": "python",
    "name": "cell3"
   },
   "outputs": [],
   "source": "from snowflake.snowpark.context import get_active_session\nsession = get_active_session()",
   "execution_count": null
  },
  {
   "cell_type": "code",
   "id": "c27eb6f7-2838-4be7-a294-145155442b64",
   "metadata": {
    "language": "python",
    "name": "cell5"
   },
   "outputs": [],
   "source": "import snowflake.snowpark as snowpark\nfrom snowflake.snowpark.functions import col\n\nsession.sql(\"USE DATABASE EVENT\").collect()\nsession.sql(\"USE SCHEMA DATATHON_2025_TEAM_KAPPA\").collect()\n",
   "execution_count": null
  },
  {
   "cell_type": "code",
   "id": "a293acb7-eef2-4634-9fd8-55f841197844",
   "metadata": {
    "language": "python",
    "name": "cell6"
   },
   "outputs": [],
   "source": " # Load data from tables\nrace_df = session.table(\"VW_ALLRACESTATS\")",
   "execution_count": null
  },
  {
   "cell_type": "code",
   "id": "a7e05386-89a4-46b2-9654-1e0d00f4693f",
   "metadata": {
    "language": "python",
    "name": "cell7"
   },
   "outputs": [],
   "source": "print(\"Race Table:\")\nrace_df.show()",
   "execution_count": null
  },
  {
   "cell_type": "code",
   "id": "73603b82-0a36-4229-8d99-f029468a07c2",
   "metadata": {
    "language": "python",
    "name": "cell44"
   },
   "outputs": [],
   "source": "race_pdf=race_df.to_pandas()",
   "execution_count": null
  },
  {
   "cell_type": "code",
   "id": "f7752a12-fe38-4df1-a133-ff3fde6eb200",
   "metadata": {
    "language": "python",
    "name": "cell8"
   },
   "outputs": [],
   "source": "race_pdf['RACE_DATE'].unique()",
   "execution_count": null
  },
  {
   "cell_type": "code",
   "id": "2060fce5-c1a2-49c6-b706-4c24a4a561ad",
   "metadata": {
    "language": "python",
    "name": "cell1"
   },
   "outputs": [],
   "source": "#All data from 2013 and previous already deleted using sql\n\n\n# # Filter out rows where 'YEAR' is less than or equal to 2013\n# new_df = race_df.filter(race_df[\"YEAR\"] > 2013)\n\n# # Show the resulting DataFrame\n# new_df.show()",
   "execution_count": null
  },
  {
   "cell_type": "code",
   "id": "3d525372-de72-4798-baea-c759fc9cda00",
   "metadata": {
    "language": "python",
    "name": "cell9"
   },
   "outputs": [],
   "source": "race_pdf.describe()",
   "execution_count": null
  },
  {
   "cell_type": "code",
   "id": "06b3b673-ca0b-40ec-9fa4-151b1753347f",
   "metadata": {
    "language": "python",
    "name": "cell10"
   },
   "outputs": [],
   "source": "#check for nulls\nrace_pdf.isnull().sum()",
   "execution_count": null
  },
  {
   "cell_type": "code",
   "id": "23cbbd44-2995-4b11-8515-f2a45333c17c",
   "metadata": {
    "language": "python",
    "name": "cell11"
   },
   "outputs": [],
   "source": "#Creating a subset of race_pdf dataframe to show missing values\nrace_pdf_missing_value = race_pdf[race_pdf.isna().any(axis=1)]\nrace_pdf_missing_value.shape\n\n#Inspecting the entries with missing values\n\nrace_pdf_missing_value.head(race_pdf_missing_value.shape[0])",
   "execution_count": null
  },
  {
   "cell_type": "code",
   "id": "b5676c8e-4b88-4641-b149-812a2b609aad",
   "metadata": {
    "language": "python",
    "name": "cell14"
   },
   "outputs": [],
   "source": "constructor_pdf= race_pdf.set_index('CONSTRUCTOR_NAME')\nconstructor_pdf.head()",
   "execution_count": null
  },
  {
   "cell_type": "code",
   "id": "6e845f89-a099-48e6-b824-cb39d7dab38b",
   "metadata": {
    "language": "python",
    "name": "cell12"
   },
   "outputs": [],
   "source": "constructor_pdf.duplicated().sum()\nconstructor_pdf[constructor_pdf.duplicated()]",
   "execution_count": null
  },
  {
   "cell_type": "code",
   "id": "afd87a15-6f75-451e-ba37-7f5a5e90ee7d",
   "metadata": {
    "language": "python",
    "name": "cell13"
   },
   "outputs": [],
   "source": "st.write(\"Number of laps by Driver Name\")\nlaps_by_winner = constructor_pdf.groupby(\"DRIVER_NAME\")[\"LAPS_COMPLETED\"].sum()\nst.bar_chart(laps_by_winner)",
   "execution_count": null
  },
  {
   "cell_type": "code",
   "id": "4ee3ba71-8e7c-43b4-b58f-b1ddc56acf93",
   "metadata": {
    "language": "python",
    "name": "cell15"
   },
   "outputs": [],
   "source": "#Number of wins by constructor\nst.write(\"Number of wins by Constructor Name\")\nwins_by_constructor = constructor_pdf.groupby(\"CONSTRUCTOR_NAME\")[\"WINS\"].sum()\nst.bar_chart(wins_by_constructor)",
   "execution_count": null
  },
  {
   "cell_type": "code",
   "id": "9769c6ca-b34c-41c9-be90-c35c848d294a",
   "metadata": {
    "language": "python",
    "name": "cell16"
   },
   "outputs": [],
   "source": "#Relationship between how many laps completed and how many wins.\nst.write(\"Number of laps by wins\")\nlaps_by_winner = constructor_pdf.groupby(\"LAPS_COMPLETED\")[\"WINS\"].sum()\nst.bar_chart(laps_by_winner)",
   "execution_count": null
  },
  {
   "cell_type": "code",
   "id": "3978ae24-5960-420c-af53-6eec89c5044a",
   "metadata": {
    "language": "python",
    "name": "cell17"
   },
   "outputs": [],
   "source": "# Filter to only the **winning constructor** per race (RACE_POSITION == 1)\nwinners_df = constructor_pdf[\n    (constructor_pdf[\"RACE_POSITION_ORDER\"] >= 1) & \n    (constructor_pdf[\"RACE_POSITION_ORDER\"] <= 3)\n]\nprint(winners_df.head())",
   "execution_count": null
  },
  {
   "cell_type": "code",
   "id": "aa0d1c62-6067-40b2-8c96-174fe0cd445f",
   "metadata": {
    "language": "python",
    "name": "cell45"
   },
   "outputs": [],
   "source": "winners_df.head()",
   "execution_count": null
  },
  {
   "cell_type": "code",
   "id": "34f4af12-8f35-4774-84c4-5ce8ed13aaf7",
   "metadata": {
    "language": "python",
    "name": "cell18"
   },
   "outputs": [],
   "source": "# winners_pdf = winners_df.to_pandas()\n# winners_pdf= winners_pdf.set_index('l_0006_CONSTRUCTOR_NAME')\n# winners_pdf.head(20)",
   "execution_count": null
  },
  {
   "cell_type": "code",
   "id": "28cf0862-6457-485c-8e9d-9543fb2edf2e",
   "metadata": {
    "language": "python",
    "name": "cell19"
   },
   "outputs": [],
   "source": "st.write(\"Number of laps by wins\")\nlaps_by_winner = winners_df.groupby(\"LAPS_COMPLETED\")[\"WINS\"].sum()\nst.bar_chart(laps_by_winner)",
   "execution_count": null
  },
  {
   "cell_type": "code",
   "id": "16769b4b-ca0d-4a00-9aa7-c276e71589e0",
   "metadata": {
    "language": "python",
    "name": "cell21"
   },
   "outputs": [],
   "source": "winners_df.head()",
   "execution_count": null
  },
  {
   "cell_type": "code",
   "id": "90d02b03-6ec0-4f06-b369-9a47f8ebaa13",
   "metadata": {
    "language": "python",
    "name": "cell47"
   },
   "outputs": [],
   "source": "winners_df.columns",
   "execution_count": null
  },
  {
   "cell_type": "code",
   "id": "be895c2c-a71e-4697-bf78-1709c4fbf1cf",
   "metadata": {
    "language": "python",
    "name": "cell20"
   },
   "outputs": [],
   "source": "#Grid position and wins\nst.write(\"Number of wins by grid position\")\nwin_by_gridposition = winners_df.groupby(\"GRID_POSITION\")[\"WINS\"].sum()\nst.bar_chart(win_by_gridposition)",
   "execution_count": null
  },
  {
   "cell_type": "code",
   "id": "509833a9-d04c-47a1-8022-eefcda3e2dfa",
   "metadata": {
    "language": "python",
    "name": "cell22"
   },
   "outputs": [],
   "source": "import pandas as pd\nimport matplotlib.pyplot as plt\nimport seaborn as sns\nfrom snowflake.snowpark.functions import col",
   "execution_count": null
  },
  {
   "cell_type": "code",
   "id": "43816d92-0cd3-4afb-bb90-5a6e3eebac3d",
   "metadata": {
    "language": "python",
    "name": "cell46"
   },
   "outputs": [],
   "source": "winners_df.columns",
   "execution_count": null
  },
  {
   "cell_type": "code",
   "id": "64588660-2456-4b0e-8b62-3764498dc602",
   "metadata": {
    "language": "python",
    "name": "cell23"
   },
   "outputs": [],
   "source": "# #renaming columns for clarity\n# winners_pdf.rename(columns={\n#     'r_0007_CONSTRUCTOR_NAME':'CONSTRUCTOR_NAME',\n#     # add others if needed\n# }, inplace=True)",
   "execution_count": null
  },
  {
   "cell_type": "code",
   "id": "346eed72-18ff-4ccd-921c-fd783960c32f",
   "metadata": {
    "language": "python",
    "name": "cell25"
   },
   "outputs": [],
   "source": "# winners_pdf.head()",
   "execution_count": null
  },
  {
   "cell_type": "code",
   "id": "bf4ba383-ef65-43c3-a603-b62fcbe67538",
   "metadata": {
    "language": "python",
    "name": "cell24"
   },
   "outputs": [],
   "source": "# Print columns to debug\nprint(winners_df.columns.tolist())\n\n#Create binary target (McLaren win)\nwinners_df[\"MCLAREN_WIN\"] = ((winners_df[\"RACE_POSITION_ORDER\"] == 1) &\n                              (winners_df[\"CONSTRUCTORID\"] == 1 )).astype(int)",
   "execution_count": null
  },
  {
   "cell_type": "code",
   "id": "6f045a03-9ed9-4b4e-9978-d04b260aee7b",
   "metadata": {
    "language": "python",
    "name": "cell26"
   },
   "outputs": [],
   "source": "winners_df[\"MCLAREN_WIN\"]",
   "execution_count": null
  },
  {
   "cell_type": "code",
   "id": "bc038cae-c31d-4018-afe7-4f1ea061ae20",
   "metadata": {
    "language": "python",
    "name": "cell48"
   },
   "outputs": [],
   "source": "mclaren_df = winners_df[['CONSTRUCTORID', 'MCLAREN_WIN']]\nmclaren_df.head()",
   "execution_count": null
  },
  {
   "cell_type": "code",
   "id": "120e7cde-23ff-4130-ba35-c444bf83eecd",
   "metadata": {
    "language": "python",
    "name": "cell49"
   },
   "outputs": [],
   "source": "mclaren_wins = mclaren_df.groupby(['CONSTRUCTORID'], as_index=False)['MCLAREN_WIN'].sum()\n\nplt.figure(figsize=(12, 8))\nplot_mg = sns.countplot('MCLAREN_WIN', data=mclaren_df)\n\nplt.title(\"Number of wins by McLaren\")\nplt.ylabel(\"Win Count\")",
   "execution_count": null
  },
  {
   "cell_type": "code",
   "id": "d36e5454-9f14-4482-94fd-cca5194d9128",
   "metadata": {
    "language": "python",
    "name": "cell50"
   },
   "outputs": [],
   "source": "winners_df.columns",
   "execution_count": null
  },
  {
   "cell_type": "code",
   "id": "7f319cf8-4b3c-4bd5-98cc-34800ba2118c",
   "metadata": {
    "language": "python",
    "name": "cell27"
   },
   "outputs": [],
   "source": "# Correlation matrix (numeric only)\nnumeric_cols = [\n    \"GRID_POSITION\", \"FASTESTLAP\", \"FASTEST_LAP_RANK\", \"FASTESTLAPSPEED\",\n    \"LAPS_COMPLETED\", \"POINTS\", \"RACE_POSITION_ORDER\"\n]\nplt.figure(figsize=(10, 6))\nsns.heatmap(winners_df[numeric_cols].corr(), annot=True, cmap=\"coolwarm\")\nplt.title(\"Feature Correlation Matrix\")\nplt.tight_layout()\nplt.show()",
   "execution_count": null
  },
  {
   "cell_type": "code",
   "id": "d088af97-d797-4ce1-a269-e13bb86fb5b7",
   "metadata": {
    "language": "python",
    "name": "cell28"
   },
   "outputs": [],
   "source": "# Distribution plots of key features\nkey_features = [\"GRID_POSITION\", \"FASTESTLAP\", \"FASTEST_LAP_RANK\", \"FASTESTLAPSPEED\"]\n\nfor col_name in key_features:\n    plt.figure(figsize=(6, 3))\n    sns.histplot(winners_df[col_name], kde=True, bins=30)\n    plt.title(f\"Distribution of {col_name}\")\n    plt.tight_layout()\n    plt.show()",
   "execution_count": null
  },
  {
   "cell_type": "code",
   "id": "a132796e-09b5-42d3-a15b-f90c3150f24f",
   "metadata": {
    "language": "python",
    "name": "cell29"
   },
   "outputs": [],
   "source": "# McLaren win frequency\nplt.figure(figsize=(5, 3))\nsns.countplot(x=\"MCLAREN_WIN\", data=winners_df)\nplt.title(\"McLaren Wins vs Non-Wins\")\nplt.xticks([0, 1], [\"No Win\", \"Win\"])\nplt.tight_layout()\nplt.show()",
   "execution_count": null
  },
  {
   "cell_type": "code",
   "id": "c64a39ea-3f1d-4e5e-ac04-84fda03c2ee4",
   "metadata": {
    "language": "python",
    "name": "cell30"
   },
   "outputs": [],
   "source": "#Compare features vs. target (McLaren Win)\nimport seaborn as sns\nimport matplotlib.pyplot as plt\n\nfor col_name in key_features:\n    plt.figure(figsize=(6, 3))\n    sns.violinplot(x=\"MCLAREN_WIN\", y=col_name, data=winners_df)\n    plt.title(f\"{col_name} Distribution vs. McLaren Win\")\n    plt.xticks([0, 1], [\"No\", \"Yes\"])\n    plt.tight_layout()\n    plt.show()",
   "execution_count": null
  },
  {
   "cell_type": "code",
   "id": "c313ca78-8ba4-43fd-a4b2-17912ebf04b2",
   "metadata": {
    "language": "python",
    "name": "cell31"
   },
   "outputs": [],
   "source": "# Compare mean of each feature for McLaren win vs non-win\ngroup_stats = winners_df.groupby(\"MCLAREN_WIN\")[key_features].mean().T\ngroup_stats.columns = [\"No Win\", \"Win\"]\nprint(\"Feature averages by McLaren win:\\n\", group_stats)",
   "execution_count": null
  },
  {
   "cell_type": "code",
   "id": "b1f81b69-2a2d-44f8-b517-dfe5cdc816d2",
   "metadata": {
    "language": "python",
    "name": "cell32"
   },
   "outputs": [],
   "source": "# Which constructors win most?\nwinners = winners_df[winners_df[\"RACE_POSITION_ORDER\"] == 1]\nplt.figure(figsize=(10, 4))\nsns.countplot(y=\"CONSTRUCTORID\", data=winners, order=winners[\"CONSTRUCTORID\"].value_counts().index)\nplt.title(\"Constructor Win Frequency\")\nplt.tight_layout()\nplt.show()",
   "execution_count": null
  },
  {
   "cell_type": "code",
   "id": "4eccf1b8-c025-451e-9f85-24adafa2fa17",
   "metadata": {
    "language": "python",
    "name": "cell33"
   },
   "outputs": [],
   "source": "sns.pairplot(winners_df[[\"MCLAREN_WIN\", \"GRID_POSITION\", \"POINTS\", \"FASTEST_LAP_RANK\"]], hue=\"MCLAREN_WIN\")\nplt.show()",
   "execution_count": null
  },
  {
   "cell_type": "code",
   "id": "fb516dd1-0a58-4382-b935-9e42432d17ce",
   "metadata": {
    "language": "python",
    "name": "cell34"
   },
   "outputs": [],
   "source": "#Finding all unique values in Year column\n# winners_df['YEAR'].unique()",
   "execution_count": null
  },
  {
   "cell_type": "code",
   "id": "4d078078-315c-47fa-901d-00206ba8981d",
   "metadata": {
    "language": "python",
    "name": "cell51"
   },
   "outputs": [],
   "source": "winners_df.head(2)",
   "execution_count": null
  },
  {
   "cell_type": "code",
   "id": "00f1f81e-5521-44ba-9130-904ab40c11bf",
   "metadata": {
    "language": "python",
    "name": "cell35"
   },
   "outputs": [],
   "source": "mclaren_won_year = winners_df[\n    (winners_df[\"MCLAREN_WIN\"] != 0)\n]\n\nprint(mclaren_won_year[[\"RACE_DATE\", \"MCLAREN_WIN\"]])",
   "execution_count": null
  },
  {
   "cell_type": "code",
   "id": "8da00642-5e1a-4ca5-ac59-a7028d13028e",
   "metadata": {
    "language": "python",
    "name": "cell36"
   },
   "outputs": [],
   "source": "#Create binary target (Mercedes win) to compare McLaren and Mercedes wins\nwinners_df[\"MERCEDES_WIN\"] = ((winners_df[\"RACE_POSITION_ORDER\"] == 1) &\n                              (winners_df[\"CONSTRUCTORID\"] == 131)).astype(int)\n# Print columns to debug\nprint(winners_df.columns.tolist())",
   "execution_count": null
  },
  {
   "cell_type": "code",
   "id": "555d3463-43ef-4ae7-85f8-7fb1c685ff4d",
   "metadata": {
    "language": "python",
    "name": "cell37"
   },
   "outputs": [],
   "source": "#FInding all dates where Mercedes won\nmercedes_won_year = winners_df[\n    (winners_df[\"MERCEDES_WIN\"] != 0)\n]\n\nprint(mercedes_won_year[[\"RACE_DATE\", \"MERCEDES_WIN\"]])",
   "execution_count": null
  },
  {
   "cell_type": "code",
   "id": "d0fed26e-e30d-4ca3-a1fb-b2b0ace46eb9",
   "metadata": {
    "language": "python",
    "name": "cell38"
   },
   "outputs": [],
   "source": "#Mercedes Grid position and wins\nst.write(\"Mercedes: Number of wins by grid position\")\nmercedes_win_by_gridposition = winners_df.groupby(\"GRID_POSITION\")[\"MERCEDES_WIN\"].sum()\nst.bar_chart(mercedes_win_by_gridposition)",
   "execution_count": null
  },
  {
   "cell_type": "code",
   "id": "aa6efa2c-ce4b-49ff-bef2-c4b0fe9cc45c",
   "metadata": {
    "language": "python",
    "name": "cell52"
   },
   "outputs": [],
   "source": "#McLaren dataset\n# 3. CREATE TARGET COLUMN (McLaren in top 3)\nwinners_df[\"MCLAREN_TOP3\"] = ((winners_df[\"CONSTRUCTOR_NAME\"] == \"McLaren\") &\n                      (winners_df[\"RACE_POSITION_ORDER\"].between(1, 3))).astype(int)\n\n",
   "execution_count": null
  },
  {
   "cell_type": "code",
   "id": "9a35ce27-5a41-49a0-a0a1-66408e7c8505",
   "metadata": {
    "language": "python",
    "name": "cell39"
   },
   "outputs": [],
   "source": "# Position gain/loss\ndf[\"POSITION_DELTA\"] = df[\"GRID_POSITION\"] - df[\"RACE_POSITION_ORDER\"]\n\n# McLaren flag\ndf[\"IS_MCLAREN\"] = (df[\"CONSTRUCTOR_NAME\"] == \"McLaren\").astype(int)\n\n# McLaren top 3 finish target\ndf[\"MCLAREN_TOP3\"] = ((df[\"IS_MCLAREN\"] == 1) & (df[\"RACE_POSITION_ORDER\"] <= 3)).astype(int)\n\n# Sort by date for rolling features\ndf = df.sort_values([\"DRIVERID\", \"RACE_DATE\"])\n\n# Rolling average for driver's recent performance (last 3 races)\ndf[\"DRIVER_AVG_POSITION\"] = df.groupby(\"DRIVERID\")[\"RACE_POSITION_ORDER\"].transform(lambda x: x.shift(1).rolling(3).mean())\n\n# Rolling average for constructor performance\ndf[\"TEAM_AVG_POSITION\"] = df.groupby(\"CONSTRUCTOR_NAME\")[\"RACE_POSITION_ORDER\"].transform(lambda x: x.shift(1).rolling(3).mean())",
   "execution_count": null
  },
  {
   "cell_type": "code",
   "id": "4106c846-a674-4c23-8fa6-cc616d2e759c",
   "metadata": {
    "language": "python",
    "name": "cell40"
   },
   "outputs": [],
   "source": "# Selecting features and target\nX = winners_df[[\n    \"GRID_POSITION\", \"FASTESTLAP\", \"FASTEST_LAP_RANK\", \"FASTESTLAPSPEED\",\n    \"LAPS_COMPLETED\", \"POINTS\", \"RACE_POSITION_ORDER\"\n]]\ny = winners_df[\"MCLAREN_WIN\"]",
   "execution_count": null
  },
  {
   "cell_type": "code",
   "id": "1ac2f55c-241b-4eb6-87a2-17d187819bc3",
   "metadata": {
    "language": "python",
    "name": "cell41"
   },
   "outputs": [],
   "source": "\nfrom sklearn.ensemble import RandomForestClassifier\nfrom sklearn.model_selection import train_test_split\nfrom sklearn.metrics import classification_report, accuracy_score\nfrom sklearn.preprocessing import StandardScaler\n\n# Scale features (optional, good for EDA + RF)\nscaler = StandardScaler()\nX_scaled = scaler.fit_transform(X)\n",
   "execution_count": null
  },
  {
   "cell_type": "code",
   "id": "8c8ad111-86bc-4be3-ae0c-87899be7a510",
   "metadata": {
    "language": "python",
    "name": "cell42"
   },
   "outputs": [],
   "source": "# Split into training and testing\n# X_train, X_test, y_train, y_test = train_test_split(\n#     X_scaled, y, test_size=0.2, random_state=42\n# )",
   "execution_count": null
  },
  {
   "cell_type": "code",
   "id": "a4c9b93c-9822-4a37-a84d-85803a14ef8f",
   "metadata": {
    "language": "python",
    "name": "cell43"
   },
   "outputs": [],
   "source": "",
   "execution_count": null
  }
 ]
}