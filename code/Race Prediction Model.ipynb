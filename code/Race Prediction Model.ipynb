{
 "metadata": {
  "kernelspec": {
   "display_name": "Streamlit Notebook",
   "name": "streamlit"
  },
  "lastEditStatus": {
   "notebookId": "4c23732iofvedoyffsbf",
   "authorId": "1515374569028",
   "authorName": "A_BZ_CHAKRABORTY",
   "authorEmail": "",
   "sessionId": "489ef8fe-e819-4a5b-98d1-d8e74a07d1b8",
   "lastEditTime": 1751044838298
  }
 },
 "nbformat_minor": 5,
 "nbformat": 4,
 "cells": [
  {
   "cell_type": "markdown",
   "id": "6e0ed5e5-76d8-4297-a21d-d61006dc8d39",
   "metadata": {
    "name": "cell2",
    "collapsed": false
   },
   "source": "Import Data"
  },
  {
   "cell_type": "code",
   "id": "3683ffcd-558b-482f-ac8b-5c7361ff5d35",
   "metadata": {
    "language": "python",
    "name": "cell4"
   },
   "outputs": [],
   "source": "import pandas as pd\nimport numpy as np\nimport streamlit as st\nimport altair as alt\nfrom imblearn.over_sampling import SMOTE\n\nfrom sklearn.ensemble import RandomForestClassifier\nfrom sklearn.model_selection import train_test_split\nfrom sklearn.metrics import classification_report, accuracy_score\n\nimport warnings\nwarnings.filterwarnings(\"ignore\")",
   "execution_count": null
  },
  {
   "cell_type": "code",
   "id": "ff513132-2a8d-4e76-b4eb-f971b655e612",
   "metadata": {
    "language": "python",
    "name": "cell3"
   },
   "outputs": [],
   "source": "from snowflake.snowpark.context import get_active_session\nsession = get_active_session()",
   "execution_count": null
  },
  {
   "cell_type": "code",
   "id": "c27eb6f7-2838-4be7-a294-145155442b64",
   "metadata": {
    "language": "python",
    "name": "cell5"
   },
   "outputs": [],
   "source": "import snowflake.snowpark as snowpark\nfrom snowflake.snowpark.functions import col\n\nsession.sql(\"USE DATABASE EVENT\").collect()\nsession.sql(\"USE SCHEMA DATATHON_2025_TEAM_KAPPA\").collect()\n",
   "execution_count": null
  },
  {
   "cell_type": "code",
   "id": "a293acb7-eef2-4634-9fd8-55f841197844",
   "metadata": {
    "language": "python",
    "name": "cell6"
   },
   "outputs": [],
   "source": " # Load data from tables\nrace_df = session.table(\"VW_ALLRACESTATS\")",
   "execution_count": null
  },
  {
   "cell_type": "code",
   "id": "a7e05386-89a4-46b2-9654-1e0d00f4693f",
   "metadata": {
    "language": "python",
    "name": "cell7"
   },
   "outputs": [],
   "source": "print(\"Race Table:\")\nrace_df.show()",
   "execution_count": null
  },
  {
   "cell_type": "code",
   "id": "73603b82-0a36-4229-8d99-f029468a07c2",
   "metadata": {
    "language": "python",
    "name": "cell44"
   },
   "outputs": [],
   "source": "race_pdf=race_df.to_pandas()",
   "execution_count": null
  },
  {
   "cell_type": "code",
   "id": "e07a4075-4033-428d-bbdf-c113b82790a5",
   "metadata": {
    "language": "python",
    "name": "cell52"
   },
   "outputs": [],
   "source": "# 2. CLEAN & FORMAT DATA\nrace_pdf = race_pdf.copy()\nrace_pdf [\"RACE_DATE\"] = pd.to_datetime(race_pdf [\"RACE_DATE\"])\nrace_pdf  = race_pdf.sort_values(\"RACE_DATE\")",
   "execution_count": null
  },
  {
   "cell_type": "code",
   "id": "21697f56-71d3-4c21-a10c-e3838186e765",
   "metadata": {
    "language": "python",
    "name": "cell53"
   },
   "outputs": [],
   "source": "# 3. CREATE TARGET COLUMN (McLaren in top 3)\nrace_pdf[\"MCLAREN_TOP3\"] = ((race_pdf[\"CONSTRUCTOR_NAME\"] == \"McLaren\") &\n                      (race_pdf[\"RACE_POSITION_ORDER\"].between(1, 3))).astype(int)",
   "execution_count": null
  },
  {
   "cell_type": "code",
   "id": "cc45bb9e-535a-472d-8bf9-d099c73cae0c",
   "metadata": {
    "language": "python",
    "name": "cell54"
   },
   "outputs": [],
   "source": "# Optional: View balance\nprint(\"Target class distribution:\")\nprint(race_pdf[\"MCLAREN_TOP3\"].value_counts())",
   "execution_count": null
  },
  {
   "cell_type": "code",
   "id": "f7752a12-fe38-4df1-a133-ff3fde6eb200",
   "metadata": {
    "language": "python",
    "name": "cell8"
   },
   "outputs": [],
   "source": "race_pdf['RACE_DATE'].unique()",
   "execution_count": null
  },
  {
   "cell_type": "code",
   "id": "3d525372-de72-4798-baea-c759fc9cda00",
   "metadata": {
    "language": "python",
    "name": "cell9"
   },
   "outputs": [],
   "source": "race_pdf.describe()",
   "execution_count": null
  },
  {
   "cell_type": "code",
   "id": "661402b9-274b-4195-a469-78ffe0b66f89",
   "metadata": {
    "language": "python",
    "name": "cell79"
   },
   "outputs": [],
   "source": "race_pdf.isnull().sum()",
   "execution_count": null
  },
  {
   "cell_type": "code",
   "id": "34684e54-9703-4821-8304-725ce0a44238",
   "metadata": {
    "language": "python",
    "name": "cell57"
   },
   "outputs": [],
   "source": "# Drop rows with key nulls\nrace_pdf = race_pdf.dropna(subset=[\"RACE_POSITION_ORDER\", \"GRID_POSITION\", \"DRIVER_NAME\", \"CONSTRUCTOR_NAME\"])",
   "execution_count": null
  },
  {
   "cell_type": "code",
   "id": "7b6b0fd3-c5c2-4960-a870-c038bce8d282",
   "metadata": {
    "language": "python",
    "name": "cell80"
   },
   "outputs": [],
   "source": "race_pdf.shape",
   "execution_count": null
  },
  {
   "cell_type": "code",
   "id": "fa58699d-75d7-4b2b-9d15-be2e6d3c139d",
   "metadata": {
    "language": "python",
    "name": "cell55",
    "codeCollapsed": false
   },
   "outputs": [],
   "source": "# DROP ROWS WHERE TARGET IS NOT RELEVANT \ndf_mclaren = race_pdf[race_pdf[\"CONSTRUCTOR_NAME\"] == \"McLaren\"].copy()\ndf_mclaren.head()",
   "execution_count": null
  },
  {
   "cell_type": "markdown",
   "id": "2ba898ac-624c-42e3-b440-e6150151d161",
   "metadata": {
    "name": "cell59",
    "collapsed": false
   },
   "source": "Feature Engineering"
  },
  {
   "cell_type": "code",
   "id": "2a69acb9-23ad-4787-b9b7-5bbada6d5190",
   "metadata": {
    "language": "python",
    "name": "cell58"
   },
   "outputs": [],
   "source": "# Position gain/loss\ndf_mclaren[\"POSITION_DELTA\"] = df_mclaren[\"GRID_POSITION\"] - df_mclaren[\"RACE_POSITION_ORDER\"]\n\n# McLaren flag\ndf_mclaren[\"IS_MCLAREN\"] = (df_mclaren[\"CONSTRUCTOR_NAME\"] == \"McLaren\").astype(int)\n\n# McLaren top 3 finish target\ndf_mclaren[\"MCLAREN_TOP3\"] = ((df_mclaren[\"IS_MCLAREN\"] == 1) & (df_mclaren[\"RACE_POSITION_ORDER\"] <= 3)).astype(int)\n\n# Sort by date for rolling features\ndf_mclaren = df_mclaren.sort_values([\"DRIVERID\", \"RACE_DATE\"])\n\n# Rolling average for driver's recent performance (last 3 races)\ndf_mclaren[\"DRIVER_AVG_POSITION\"] = df_mclaren.groupby(\"DRIVERID\")[\"RACE_POSITION_ORDER\"].transform(lambda x: x.shift(1).rolling(3).mean())\n\n# Rolling average for constructor performance\ndf_mclaren[\"TEAM_AVG_POSITION\"] = df_mclaren.groupby(\"CONSTRUCTOR_NAME\")[\"RACE_POSITION_ORDER\"].transform(lambda x: x.shift(1).rolling(3).mean())",
   "execution_count": null
  },
  {
   "cell_type": "code",
   "id": "859d5c07-a81b-4cd4-aeb7-938e28d38cd7",
   "metadata": {
    "language": "python",
    "name": "cell63"
   },
   "outputs": [],
   "source": "# Create binary target: 1 if McLaren won, else 0\ndf_mclaren[\"MCLAREN_WIN\"] = ((df_mclaren[\"RACE_POSITION_ORDER\"] == 1) & \n                      (df_mclaren[\"CONSTRUCTOR_NAME\"].str == \"McLaren\")).astype(int)",
   "execution_count": null
  },
  {
   "cell_type": "code",
   "id": "89128a97-9fbd-44a6-8b20-235ceef2747f",
   "metadata": {
    "language": "python",
    "name": "cell60"
   },
   "outputs": [],
   "source": "df_mclaren.head()",
   "execution_count": null
  },
  {
   "cell_type": "code",
   "id": "cd5548fb-3ef5-42ed-8d49-4b2320a571e4",
   "metadata": {
    "language": "python",
    "name": "cell82"
   },
   "outputs": [],
   "source": "key_features = df_mclaren[[\"GRID_POSITION\", \"QUALI_POSITION\", \"POINTS\", \"FASTEST_LAP_RANK\",\n    \"FASTESTLAPSPEED\", \"DRIVER_POINTS_STANDINGS\", \"DRIVER_POSITION_STANDINGS\",\n    \"CONSTRUCTOR_POINTS_STANDINGS\", \"CONSTRUCTOR_POSITION_STANDINGS\", \"WINS\"\n]]",
   "execution_count": null
  },
  {
   "cell_type": "code",
   "id": "efb69dd0-edbc-4a97-8289-5e4f269632c8",
   "metadata": {
    "language": "python",
    "name": "cell81"
   },
   "outputs": [],
   "source": "#Compare features vs. target (McLaren Win)\nimport seaborn as sns\nimport matplotlib.pyplot as plt\n\nfor col_name in key_features:\n    plt.figure(figsize=(6, 3))\n    sns.violinplot(x=\"MCLAREN_WIN\", y=col_name, data=df_mclaren)\n    plt.title(f\"{col_name} Distribution vs. McLaren Win\")\n    plt.xticks([0, 1], [\"No\", \"Yes\"])\n    plt.tight_layout()\n    plt.show()",
   "execution_count": null
  },
  {
   "cell_type": "code",
   "id": "7f319cf8-4b3c-4bd5-98cc-34800ba2118c",
   "metadata": {
    "language": "python",
    "name": "cell27"
   },
   "outputs": [],
   "source": "# Correlation matrix (numeric only)\nnumeric_cols = [\n    \"GRID_POSITION\", \"FASTESTLAP\", \"FASTEST_LAP_RANK\", \"FASTESTLAPSPEED\",\n    \"LAPS_COMPLETED\", \"POINTS\", \"RACE_POSITION_ORDER\"\n]\nplt.figure(figsize=(10, 6))\nsns.heatmap(df_mclaren[numeric_cols].corr(), annot=True, cmap=\"coolwarm\")\nplt.title(\"Feature Correlation Matrix\")\nplt.tight_layout()\nplt.show()",
   "execution_count": null
  },
  {
   "cell_type": "markdown",
   "id": "15ca2c9f-8e65-4739-a106-327b1f5476d5",
   "metadata": {
    "name": "cell62",
    "collapsed": false
   },
   "source": "Train/Test Split"
  },
  {
   "cell_type": "code",
   "id": "9c483020-4b3d-48ea-87f6-ffefd9dd4587",
   "metadata": {
    "language": "python",
    "name": "cell61"
   },
   "outputs": [],
   "source": "# Features and target\nX = df_mclaren[[\"GRID_POSITION\", \"QUALI_POSITION\", \"POINTS\", \"FASTEST_LAP_RANK\",\n    \"FASTESTLAPSPEED\", \"DRIVER_POINTS_STANDINGS\", \"DRIVER_POSITION_STANDINGS\",\n    \"CONSTRUCTOR_POINTS_STANDINGS\", \"CONSTRUCTOR_POSITION_STANDINGS\", \"WINS\"\n]]\ny = df_mclaren[\"MCLAREN_TOP3\"]",
   "execution_count": null
  },
  {
   "cell_type": "code",
   "id": "b3b356cc-f5ca-4b34-8fd0-5f5ff26eceb8",
   "metadata": {
    "language": "python",
    "name": "cell64"
   },
   "outputs": [],
   "source": "from sklearn.ensemble import RandomForestClassifier\nfrom sklearn.model_selection import train_test_split\nfrom sklearn.metrics import classification_report, accuracy_score\nfrom sklearn.preprocessing import StandardScaler\n\n# Scale features \nscaler = StandardScaler()\nX_scaled = scaler.fit_transform(X)",
   "execution_count": null
  },
  {
   "cell_type": "code",
   "id": "df9ab2b0-ad9f-435b-82c0-31d506963e52",
   "metadata": {
    "language": "python",
    "name": "cell66"
   },
   "outputs": [],
   "source": "# Split into train and test\nX_train, X_test, y_train, y_test = train_test_split(\n    X_scaled, y, test_size=0.2, random_state=42\n)",
   "execution_count": null
  },
  {
   "cell_type": "markdown",
   "id": "acf1ab95-849c-45a5-a4fe-6940f716060f",
   "metadata": {
    "name": "cell72",
    "collapsed": false
   },
   "source": "Hyperparameter tuning"
  },
  {
   "cell_type": "code",
   "id": "00424bb4-17a3-4b31-8805-e4459cd4ba90",
   "metadata": {
    "language": "python",
    "name": "cell71"
   },
   "outputs": [],
   "source": "from sklearn.model_selection import GridSearchCV\n\nparam_grid = {\n    \"n_estimators\": [100, 200],\n    \"max_depth\": [10, 10, None],\n    \"min_samples_split\": [2, 5]\n}\n\ngrid = GridSearchCV(RandomForestClassifier(random_state=42), param_grid, cv=3)\ngrid.fit(X_train, y_train)\nprint(\"Best parameters:\", grid.best_params_)",
   "execution_count": null
  },
  {
   "cell_type": "code",
   "id": "bd420dbb-67a2-45fb-b173-4589c387a541",
   "metadata": {
    "language": "python",
    "name": "cell67"
   },
   "outputs": [],
   "source": "# Train Random Forest\nrf = RandomForestClassifier(n_estimators=100, random_state=42, max_depth = 10, min_samples_split = 2)\nrf.fit(X_train, y_train)",
   "execution_count": null
  },
  {
   "cell_type": "code",
   "id": "0b07a545-0bb2-46ce-aa20-a2cd5e29abf4",
   "metadata": {
    "language": "python",
    "name": "cell68"
   },
   "outputs": [],
   "source": "# EVALUATE\ny_pred = rf.predict(X_test)\nprint(\"\\nModel Performance:\")\nprint(classification_report(y_test, y_pred))\nprint(\"Accuracy:\", accuracy_score(y_test, y_pred))",
   "execution_count": null
  },
  {
   "cell_type": "code",
   "id": "28c6909b-66a3-48a0-9fe3-d4096e13a95e",
   "metadata": {
    "language": "python",
    "name": "cell56",
    "codeCollapsed": false
   },
   "outputs": [],
   "source": "# FEATURES\nfeatures = [\n    \"GRID_POSITION\", \"QUALI_POSITION\", \"POINTS\", \"FASTEST_LAP_RANK\",\n    \"FASTESTLAPSPEED\", \"DRIVER_POINTS_STANDINGS\", \"DRIVER_POSITION_STANDINGS\",\n    \"CONSTRUCTOR_POINTS_STANDINGS\", \"CONSTRUCTOR_POSITION_STANDINGS\", \"WINS\"\n]",
   "execution_count": null
  },
  {
   "cell_type": "code",
   "id": "d8d29b8d-3432-4730-b227-a778f2f6ab7d",
   "metadata": {
    "language": "python",
    "name": "cell69"
   },
   "outputs": [],
   "source": "# FEATURE IMPORTANCE\nimport matplotlib.pyplot as plt\nimport seaborn as sns\n\nimportances = pd.Series(rf.feature_importances_, index=features)\nplt.figure(figsize=(8, 4))\nsns.barplot(x=importances.values, y=importances.index)\nplt.title(\"Feature Importance\")\nplt.tight_layout()\nplt.show()",
   "execution_count": null
  },
  {
   "cell_type": "code",
   "id": "23b0094b-72f5-4e7f-aea8-26b961278028",
   "metadata": {
    "language": "python",
    "name": "cell70"
   },
   "outputs": [],
   "source": "# McLaren win prediction for next race \n# Prepare one row with latest McLaren data\nnext_race_input = df_mclaren[features].iloc[-1:].copy()  # Just an example; replace with real upcoming values\n\nprediction = rf.predict(next_race_input)\nprint(\"\\n Prediction for next race: McLaren Top 3?\", \"YES\" if prediction[0] == 1 else \"NO\")",
   "execution_count": null
  },
  {
   "cell_type": "code",
   "id": "5f4f219e-8630-466e-b584-eda13648797f",
   "metadata": {
    "language": "python",
    "name": "cell73"
   },
   "outputs": [],
   "source": "#Explaining the model prediction\nimport shap\n\nexplainer = shap.TreeExplainer(rf)\nshap_values = explainer.shap_values(X_test)\nshap.summary_plot(shap_values[1], X_test)",
   "execution_count": null
  },
  {
   "cell_type": "code",
   "id": "fbcebb7c-cd14-412e-bd25-f0ac6baa50c9",
   "metadata": {
    "language": "python",
    "name": "cell76"
   },
   "outputs": [],
   "source": "from sklearn.tree import DecisionTreeClassifier, plot_tree\nimport matplotlib.pyplot as plt\n\n# Train a decision tree (depth-limited for interpretability)\ndt_clf = DecisionTreeClassifier(max_depth=10, class_weight=\"balanced\", random_state=42)\ndt_clf.fit(X_train, y_train)",
   "execution_count": null
  },
  {
   "cell_type": "code",
   "id": "028f5db6-90e9-4ad6-979d-efd1645ff20b",
   "metadata": {
    "language": "python",
    "name": "cell77"
   },
   "outputs": [],
   "source": "# Plot the decision tree\nplt.figure(figsize=(10, 10))\nplot_tree(\n    dt_clf,\n    feature_names=features,\n    class_names=[\"No Top 3\", \"Top 3\"],\n    filled=True,\n    rounded=True,\n    fontsize=10\n)\nplt.title(\"Decision Tree for McLaren Top 3 Finish Prediction\")\nplt.show()",
   "execution_count": null
  },
  {
   "cell_type": "code",
   "id": "ac1b43a9-4488-4205-8840-b41a25febcd2",
   "metadata": {
    "language": "python",
    "name": "cell83"
   },
   "outputs": [],
   "source": "accuracy = accuracy_score(y_test, dt_clf.predict(X_test))\nprint(\"Decision Tree Accuracy:\", accuracy)",
   "execution_count": null
  },
  {
   "cell_type": "markdown",
   "id": "8e880898-af98-466b-8bdd-0b5baab3a07b",
   "metadata": {
    "name": "cell75",
    "collapsed": false
   },
   "source": "Predicting whether McLaren will win at Top 3 position in 2025 race"
  },
  {
   "cell_type": "markdown",
   "id": "79dcb30a-9b97-4358-8169-f49e035f8b0f",
   "metadata": {
    "name": "cell78",
    "collapsed": false
   },
   "source": "X = df_mclaren[[\"GRID_POSITION\", \"QUALI_POSITION\", \"POINTS\", \"FASTEST_LAP_RANK\",\n    \"FASTESTLAPSPEED\", \"DRIVER_POINTS_STANDINGS\", \"DRIVER_POSITION_STANDINGS\",\n    \"CONSTRUCTOR_POINTS_STANDINGS\", \"CONSTRUCTOR_POSITION_STANDINGS\", \"WINS\"\n]]"
  },
  {
   "cell_type": "code",
   "id": "89917c9a-f8fb-44d9-aaa6-259513618369",
   "metadata": {
    "language": "python",
    "name": "cell74"
   },
   "outputs": [],
   "source": "# Example new race data \nnew_race = pd.DataFrame([{\n    \"GRID_POSITION\": 0.945,\n    \"QUALI_POSITION\": 8,\n    \"POINTS\": 80,\n    \"FASTEST_LAP_RANK\": 50,\n    \"FASTESTLAPSPEED\": 130,\n    \"DRIVER_POINTS_STANDINGS\" : 1.065,\n    \"DRIVER_POSITION_STANDINGS\": 120,\n    \"CONSTRUCTOR_POINTS_STANDINGS\": 120,\n    \"CONSTRUCTOR_POSITION_STANDINGS\":190,\n    \"WINS\": 40}])\n\nnew_race_scaled = scaler.transform(new_race)\nprediction = rf.predict(new_race_scaled)\nprint(\"McLaren expected to finish in Top 3:\", bool(prediction[0]))",
   "execution_count": null
  },
  {
   "cell_type": "markdown",
   "id": "b63b41a8-9b94-441c-9b02-bfe9f5db729b",
   "metadata": {
    "name": "cell65",
    "collapsed": false
   },
   "source": "PREVIOUS CODE"
  },
  {
   "cell_type": "code",
   "id": "2060fce5-c1a2-49c6-b706-4c24a4a561ad",
   "metadata": {
    "language": "python",
    "name": "cell1"
   },
   "outputs": [],
   "source": "#All data from 2013 and previous already deleted using sql\n\n\n# # Filter out rows where 'YEAR' is less than or equal to 2013\n# new_df = race_df.filter(race_df[\"YEAR\"] > 2013)\n\n# # Show the resulting DataFrame\n# new_df.show()",
   "execution_count": null
  },
  {
   "cell_type": "code",
   "id": "06b3b673-ca0b-40ec-9fa4-151b1753347f",
   "metadata": {
    "language": "python",
    "name": "cell10"
   },
   "outputs": [],
   "source": "#check for nulls\nrace_pdf.isnull().sum()",
   "execution_count": null
  },
  {
   "cell_type": "code",
   "id": "23cbbd44-2995-4b11-8515-f2a45333c17c",
   "metadata": {
    "language": "python",
    "name": "cell11"
   },
   "outputs": [],
   "source": "#Creating a subset of race_pdf dataframe to show missing values\nrace_pdf_missing_value = race_pdf[race_pdf.isna().any(axis=1)]\nrace_pdf_missing_value.shape\n\n#Inspecting the entries with missing values\n\nrace_pdf_missing_value.head(race_pdf_missing_value.shape[0])",
   "execution_count": null
  },
  {
   "cell_type": "code",
   "id": "b5676c8e-4b88-4641-b149-812a2b609aad",
   "metadata": {
    "language": "python",
    "name": "cell14"
   },
   "outputs": [],
   "source": "constructor_pdf= race_pdf.set_index('CONSTRUCTOR_NAME')\nconstructor_pdf.head()",
   "execution_count": null
  },
  {
   "cell_type": "code",
   "id": "6e845f89-a099-48e6-b824-cb39d7dab38b",
   "metadata": {
    "language": "python",
    "name": "cell12"
   },
   "outputs": [],
   "source": "constructor_pdf.duplicated().sum()\nconstructor_pdf[constructor_pdf.duplicated()]",
   "execution_count": null
  },
  {
   "cell_type": "code",
   "id": "afd87a15-6f75-451e-ba37-7f5a5e90ee7d",
   "metadata": {
    "language": "python",
    "name": "cell13"
   },
   "outputs": [],
   "source": "st.write(\"Number of laps by Driver Name\")\nlaps_by_winner = constructor_pdf.groupby(\"DRIVER_NAME\")[\"LAPS_COMPLETED\"].sum()\nst.bar_chart(laps_by_winner)",
   "execution_count": null
  },
  {
   "cell_type": "code",
   "id": "4ee3ba71-8e7c-43b4-b58f-b1ddc56acf93",
   "metadata": {
    "language": "python",
    "name": "cell15"
   },
   "outputs": [],
   "source": "#Number of wins by constructor\nst.write(\"Number of wins by Constructor Name\")\nwins_by_constructor = constructor_pdf.groupby(\"CONSTRUCTOR_NAME\")[\"WINS\"].sum()\nst.bar_chart(wins_by_constructor)",
   "execution_count": null
  },
  {
   "cell_type": "code",
   "id": "9769c6ca-b34c-41c9-be90-c35c848d294a",
   "metadata": {
    "language": "python",
    "name": "cell16"
   },
   "outputs": [],
   "source": "#Relationship between how many laps completed and how many wins.\nst.write(\"Number of laps by wins\")\nlaps_by_winner = constructor_pdf.groupby(\"LAPS_COMPLETED\")[\"WINS\"].sum()\nst.bar_chart(laps_by_winner)",
   "execution_count": null
  },
  {
   "cell_type": "code",
   "id": "3978ae24-5960-420c-af53-6eec89c5044a",
   "metadata": {
    "language": "python",
    "name": "cell17"
   },
   "outputs": [],
   "source": "# Filter to only the **winning constructor** per race (RACE_POSITION == 1)\nwinners_df = constructor_pdf[\n    (constructor_pdf[\"RACE_POSITION_ORDER\"] >= 1) & \n    (constructor_pdf[\"RACE_POSITION_ORDER\"] <= 3)\n]\nprint(winners_df.head())",
   "execution_count": null
  },
  {
   "cell_type": "code",
   "id": "aa0d1c62-6067-40b2-8c96-174fe0cd445f",
   "metadata": {
    "language": "python",
    "name": "cell45"
   },
   "outputs": [],
   "source": "winners_df.head()",
   "execution_count": null
  },
  {
   "cell_type": "code",
   "id": "34f4af12-8f35-4774-84c4-5ce8ed13aaf7",
   "metadata": {
    "language": "python",
    "name": "cell18"
   },
   "outputs": [],
   "source": "# winners_pdf = winners_df.to_pandas()\n# winners_pdf= winners_pdf.set_index('l_0006_CONSTRUCTOR_NAME')\n# winners_pdf.head(20)",
   "execution_count": null
  },
  {
   "cell_type": "code",
   "id": "28cf0862-6457-485c-8e9d-9543fb2edf2e",
   "metadata": {
    "language": "python",
    "name": "cell19"
   },
   "outputs": [],
   "source": "st.write(\"Number of laps by wins\")\nlaps_by_winner = winners_df.groupby(\"LAPS_COMPLETED\")[\"WINS\"].sum()\nst.bar_chart(laps_by_winner)",
   "execution_count": null
  },
  {
   "cell_type": "code",
   "id": "16769b4b-ca0d-4a00-9aa7-c276e71589e0",
   "metadata": {
    "language": "python",
    "name": "cell21"
   },
   "outputs": [],
   "source": "winners_df.head()",
   "execution_count": null
  },
  {
   "cell_type": "code",
   "id": "90d02b03-6ec0-4f06-b369-9a47f8ebaa13",
   "metadata": {
    "language": "python",
    "name": "cell47"
   },
   "outputs": [],
   "source": "winners_df.columns",
   "execution_count": null
  },
  {
   "cell_type": "code",
   "id": "be895c2c-a71e-4697-bf78-1709c4fbf1cf",
   "metadata": {
    "language": "python",
    "name": "cell20"
   },
   "outputs": [],
   "source": "#Grid position and wins\nst.write(\"Number of wins by grid position\")\nwin_by_gridposition = winners_df.groupby(\"GRID_POSITION\")[\"WINS\"].sum()\nst.bar_chart(win_by_gridposition)",
   "execution_count": null
  },
  {
   "cell_type": "code",
   "id": "509833a9-d04c-47a1-8022-eefcda3e2dfa",
   "metadata": {
    "language": "python",
    "name": "cell22"
   },
   "outputs": [],
   "source": "import pandas as pd\nimport matplotlib.pyplot as plt\nimport seaborn as sns\nfrom snowflake.snowpark.functions import col",
   "execution_count": null
  },
  {
   "cell_type": "code",
   "id": "43816d92-0cd3-4afb-bb90-5a6e3eebac3d",
   "metadata": {
    "language": "python",
    "name": "cell46"
   },
   "outputs": [],
   "source": "winners_df.columns",
   "execution_count": null
  },
  {
   "cell_type": "code",
   "id": "64588660-2456-4b0e-8b62-3764498dc602",
   "metadata": {
    "language": "python",
    "name": "cell23"
   },
   "outputs": [],
   "source": "# #renaming columns for clarity\n# winners_pdf.rename(columns={\n#     'r_0007_CONSTRUCTOR_NAME':'CONSTRUCTOR_NAME',\n#     # add others if needed\n# }, inplace=True)",
   "execution_count": null
  },
  {
   "cell_type": "code",
   "id": "346eed72-18ff-4ccd-921c-fd783960c32f",
   "metadata": {
    "language": "python",
    "name": "cell25"
   },
   "outputs": [],
   "source": "# winners_pdf.head()",
   "execution_count": null
  },
  {
   "cell_type": "code",
   "id": "bf4ba383-ef65-43c3-a603-b62fcbe67538",
   "metadata": {
    "language": "python",
    "name": "cell24"
   },
   "outputs": [],
   "source": "# Print columns to debug\nprint(winners_df.columns.tolist())\n\n#Create binary target (McLaren win)\nwinners_df[\"MCLAREN_WIN\"] = ((winners_df[\"RACE_POSITION_ORDER\"] == 1) &\n                              (winners_df[\"CONSTRUCTORID\"] == 1 )).astype(int)",
   "execution_count": null
  },
  {
   "cell_type": "code",
   "id": "6f045a03-9ed9-4b4e-9978-d04b260aee7b",
   "metadata": {
    "language": "python",
    "name": "cell26"
   },
   "outputs": [],
   "source": "winners_df[\"MCLAREN_WIN\"]",
   "execution_count": null
  },
  {
   "cell_type": "code",
   "id": "bc038cae-c31d-4018-afe7-4f1ea061ae20",
   "metadata": {
    "language": "python",
    "name": "cell48"
   },
   "outputs": [],
   "source": "mclaren_df = winners_df[['CONSTRUCTORID', 'MCLAREN_WIN']]\nmclaren_df.head()",
   "execution_count": null
  },
  {
   "cell_type": "code",
   "id": "120e7cde-23ff-4130-ba35-c444bf83eecd",
   "metadata": {
    "language": "python",
    "name": "cell49"
   },
   "outputs": [],
   "source": "mclaren_wins = mclaren_df.groupby(['CONSTRUCTORID'], as_index=False)['MCLAREN_WIN'].sum()\n\nplt.figure(figsize=(12, 8))\nplot_mg = sns.countplot('MCLAREN_WIN', data=mclaren_df)\n\nplt.title(\"Number of wins by McLaren\")\nplt.ylabel(\"Win Count\")",
   "execution_count": null
  },
  {
   "cell_type": "code",
   "id": "d36e5454-9f14-4482-94fd-cca5194d9128",
   "metadata": {
    "language": "python",
    "name": "cell50"
   },
   "outputs": [],
   "source": "winners_df.columns",
   "execution_count": null
  },
  {
   "cell_type": "code",
   "id": "d088af97-d797-4ce1-a269-e13bb86fb5b7",
   "metadata": {
    "language": "python",
    "name": "cell28"
   },
   "outputs": [],
   "source": "# Distribution plots of key features\nkey_features = [\"GRID_POSITION\", \"FASTESTLAP\", \"FASTEST_LAP_RANK\", \"FASTESTLAPSPEED\"]\n\nfor col_name in key_features:\n    plt.figure(figsize=(6, 3))\n    sns.histplot(winners_df[col_name], kde=True, bins=30)\n    plt.title(f\"Distribution of {col_name}\")\n    plt.tight_layout()\n    plt.show()",
   "execution_count": null
  },
  {
   "cell_type": "code",
   "id": "a132796e-09b5-42d3-a15b-f90c3150f24f",
   "metadata": {
    "language": "python",
    "name": "cell29"
   },
   "outputs": [],
   "source": "# McLaren win frequency\nplt.figure(figsize=(5, 3))\nsns.countplot(x=\"MCLAREN_WIN\", data=winners_df)\nplt.title(\"McLaren Wins vs Non-Wins\")\nplt.xticks([0, 1], [\"No Win\", \"Win\"])\nplt.tight_layout()\nplt.show()",
   "execution_count": null
  },
  {
   "cell_type": "code",
   "id": "c64a39ea-3f1d-4e5e-ac04-84fda03c2ee4",
   "metadata": {
    "language": "python",
    "name": "cell30"
   },
   "outputs": [],
   "source": "#Compare features vs. target (McLaren Win)\nimport seaborn as sns\nimport matplotlib.pyplot as plt\n\nfor col_name in key_features:\n    plt.figure(figsize=(6, 3))\n    sns.violinplot(x=\"MCLAREN_WIN\", y=col_name, data=winners_df)\n    plt.title(f\"{col_name} Distribution vs. McLaren Win\")\n    plt.xticks([0, 1], [\"No\", \"Yes\"])\n    plt.tight_layout()\n    plt.show()",
   "execution_count": null
  },
  {
   "cell_type": "code",
   "id": "c313ca78-8ba4-43fd-a4b2-17912ebf04b2",
   "metadata": {
    "language": "python",
    "name": "cell31"
   },
   "outputs": [],
   "source": "# Compare mean of each feature for McLaren win vs non-win\ngroup_stats = winners_df.groupby(\"MCLAREN_WIN\")[key_features].mean().T\ngroup_stats.columns = [\"No Win\", \"Win\"]\nprint(\"Feature averages by McLaren win:\\n\", group_stats)",
   "execution_count": null
  },
  {
   "cell_type": "code",
   "id": "b1f81b69-2a2d-44f8-b517-dfe5cdc816d2",
   "metadata": {
    "language": "python",
    "name": "cell32"
   },
   "outputs": [],
   "source": "# Which constructors win most?\nwinners = winners_df[winners_df[\"RACE_POSITION_ORDER\"] == 1]\nplt.figure(figsize=(10, 4))\nsns.countplot(y=\"CONSTRUCTORID\", data=winners, order=winners[\"CONSTRUCTORID\"].value_counts().index)\nplt.title(\"Constructor Win Frequency\")\nplt.tight_layout()\nplt.show()",
   "execution_count": null
  },
  {
   "cell_type": "code",
   "id": "4eccf1b8-c025-451e-9f85-24adafa2fa17",
   "metadata": {
    "language": "python",
    "name": "cell33"
   },
   "outputs": [],
   "source": "sns.pairplot(winners_df[[\"MCLAREN_WIN\", \"GRID_POSITION\", \"POINTS\", \"FASTEST_LAP_RANK\"]], hue=\"MCLAREN_WIN\")\nplt.show()",
   "execution_count": null
  },
  {
   "cell_type": "code",
   "id": "fb516dd1-0a58-4382-b935-9e42432d17ce",
   "metadata": {
    "language": "python",
    "name": "cell34"
   },
   "outputs": [],
   "source": "#Finding all unique values in Year column\n# winners_df['YEAR'].unique()",
   "execution_count": null
  },
  {
   "cell_type": "code",
   "id": "4d078078-315c-47fa-901d-00206ba8981d",
   "metadata": {
    "language": "python",
    "name": "cell51"
   },
   "outputs": [],
   "source": "winners_df.head(2)",
   "execution_count": null
  },
  {
   "cell_type": "code",
   "id": "00f1f81e-5521-44ba-9130-904ab40c11bf",
   "metadata": {
    "language": "python",
    "name": "cell35"
   },
   "outputs": [],
   "source": "mclaren_won_year = winners_df[\n    (winners_df[\"MCLAREN_WIN\"] != 0)\n]\n\nprint(mclaren_won_year[[\"RACE_DATE\", \"MCLAREN_WIN\"]])",
   "execution_count": null
  },
  {
   "cell_type": "code",
   "id": "8da00642-5e1a-4ca5-ac59-a7028d13028e",
   "metadata": {
    "language": "python",
    "name": "cell36"
   },
   "outputs": [],
   "source": "#Create binary target (Mercedes win) to compare McLaren and Mercedes wins\nwinners_df[\"MERCEDES_WIN\"] = ((winners_df[\"RACE_POSITION_ORDER\"] == 1) &\n                              (winners_df[\"CONSTRUCTORID\"] == 131)).astype(int)\n# Print columns to debug\nprint(winners_df.columns.tolist())",
   "execution_count": null
  },
  {
   "cell_type": "code",
   "id": "555d3463-43ef-4ae7-85f8-7fb1c685ff4d",
   "metadata": {
    "language": "python",
    "name": "cell37"
   },
   "outputs": [],
   "source": "#FInding all dates where Mercedes won\nmercedes_won_year = winners_df[\n    (winners_df[\"MERCEDES_WIN\"] != 0)\n]\n\nprint(mercedes_won_year[[\"RACE_DATE\", \"MERCEDES_WIN\"]])",
   "execution_count": null
  },
  {
   "cell_type": "code",
   "id": "d0fed26e-e30d-4ca3-a1fb-b2b0ace46eb9",
   "metadata": {
    "language": "python",
    "name": "cell38"
   },
   "outputs": [],
   "source": "#Mercedes Grid position and wins\nst.write(\"Mercedes: Number of wins by grid position\")\nmercedes_win_by_gridposition = winners_df.groupby(\"GRID_POSITION\")[\"MERCEDES_WIN\"].sum()\nst.bar_chart(mercedes_win_by_gridposition)",
   "execution_count": null
  },
  {
   "cell_type": "code",
   "id": "9a35ce27-5a41-49a0-a0a1-66408e7c8505",
   "metadata": {
    "language": "python",
    "name": "cell39"
   },
   "outputs": [],
   "source": "",
   "execution_count": null
  },
  {
   "cell_type": "code",
   "id": "4106c846-a674-4c23-8fa6-cc616d2e759c",
   "metadata": {
    "language": "python",
    "name": "cell40"
   },
   "outputs": [],
   "source": "# Selecting features and target\nX = winners_df[[\n    \"GRID_POSITION\", \"FASTESTLAP\", \"FASTEST_LAP_RANK\", \"FASTESTLAPSPEED\",\n    \"LAPS_COMPLETED\", \"POINTS\", \"RACE_POSITION_ORDER\"\n]]\ny = winners_df[\"MCLAREN_WIN\"]",
   "execution_count": null
  },
  {
   "cell_type": "code",
   "id": "1ac2f55c-241b-4eb6-87a2-17d187819bc3",
   "metadata": {
    "language": "python",
    "name": "cell41"
   },
   "outputs": [],
   "source": "\nfrom sklearn.ensemble import RandomForestClassifier\nfrom sklearn.model_selection import train_test_split\nfrom sklearn.metrics import classification_report, accuracy_score\nfrom sklearn.preprocessing import StandardScaler\n\n# Scale features (optional, good for EDA + RF)\nscaler = StandardScaler()\nX_scaled = scaler.fit_transform(X)\n",
   "execution_count": null
  },
  {
   "cell_type": "code",
   "id": "8c8ad111-86bc-4be3-ae0c-87899be7a510",
   "metadata": {
    "language": "python",
    "name": "cell42"
   },
   "outputs": [],
   "source": "# Split into training and testing\n# X_train, X_test, y_train, y_test = train_test_split(\n#     X_scaled, y, test_size=0.2, random_state=42\n# )",
   "execution_count": null
  },
  {
   "cell_type": "code",
   "id": "a4c9b93c-9822-4a37-a84d-85803a14ef8f",
   "metadata": {
    "language": "python",
    "name": "cell43"
   },
   "outputs": [],
   "source": "",
   "execution_count": null
  }
 ]
}